{
 "cells": [
  {
   "cell_type": "code",
   "execution_count": null,
   "metadata": {},
   "outputs": [],
   "source": [
    "import pandas as pd\n",
    "import requests\n",
    "from bs4 import BeautifulSoup\n",
    "\n",
    "REQUEST_URL = \"https://suumo.jp/jj/chintai/ichiran/FR301FC001/?ar=030&bs=040&ta=13&sc=13110&cb=0.0&ct=9999999&et=9999999&cn=9999999&mb=0&mt=9999999&shkr1=03&shkr2=03&shkr3=03&shkr4=03&fw2=&srch_navi=1\"\n",
    "MAX_ITEMS = 1000\n",
    "results = []\n",
    "page_number = 1\n",
    "item_count = 0\n",
    "\n",
    "while item_count < MAX_ITEMS:\n",
    "    res = f\"{REQUEST_URL}&page={page_number}\"\n",
    "    response = requests.get(res)\n",
    "    if response.status_code != 200:\n",
    "        break\n",
    "\n",
    "    soup = BeautifulSoup(response.text, \"html.parser\")\n",
    "    cassette_items = soup.find_all(class_=\"cassetteitem\")\n",
    "\n",
    "    for item in cassette_items:\n",
    "        # 各cassetteitemのタイトルなど共通情報を抽出\n",
    "        title = item.find(class_=\"cassetteitem_content-title\").text.strip()\n",
    "        address = item.find(class_=\"cassetteitem_detail-col1\").text.strip()\n",
    "\n",
    "        # クラス名 'cassetteitem_detail-col3' を持つliタグを検索\n",
    "        detail_col3 = soup.find('li', class_='cassetteitem_detail-col3')\n",
    "        # 中のdiv要素を全て取得\n",
    "        divs = detail_col3.find_all('div')\n",
    "        tikunen = divs[0].text.strip() if len(divs) > 0 else None\n",
    "        const = divs[1].text.strip() if len(divs) > 1 else None\n",
    "\n",
    "        \n",
    "        # 各cassetteitem内の複数のtbodyを取得\n",
    "        tbodies = item.find_all('tbody')\n",
    "        for tbody in tbodies:\n",
    "            if item_count >= MAX_ITEMS:\n",
    "                break\n",
    "            # 各tbodyから間取り、料金、階数などの情報を抽出\n",
    "            madori = tbody.find(class_=\"cassetteitem_madori\").text.strip()\n",
    "            menseki = tbody.find(class_=\"cassetteitem_menseki\").text.strip()\n",
    "            fee = tbody.find(class_=\"cassetteitem_other-emphasis ui-text--bold\").text.strip()\n",
    "            administration = tbody.find(class_=\"cassetteitem_price cassetteitem_price--administration\").text.strip()\n",
    "            deposit = tbody.find(class_=\"cassetteitem_price cassetteitem_price--deposit\").text.strip()\n",
    "            garatuity = tbody.find(class_=\"cassetteitem_price cassetteitem_price--gratuity\").text.strip()\n",
    "            floor = tbody.find_all('td')[2].text.strip() if tbody.find_all('td') else \"不明\"\n",
    "            \n",
    "            # 各物件の情報を辞書として追加\n",
    "            bukken_info = {\n",
    "                \"名称\": title,\n",
    "                \"アドレス\": address,\n",
    "                \"築年数\": tikunen,\n",
    "                \"構造\": const,\n",
    "                \"間取り\": madori,\n",
    "                \"面積\": menseki,\n",
    "                \"家賃\": fee,\n",
    "                \"管理費\": administration,\n",
    "                \"敷金\": deposit,\n",
    "                \"礼金\": garatuity,\n",
    "                \"階数\": floor\n",
    "\n",
    "            }\n",
    "            results.append(bukken_info)\n",
    "            item_count += 1\n",
    "\n",
    "    page_number += 1\n",
    "    \n",
    "    next_button = soup.select('p.pagination-parts > a')\n",
    "    if not next_button or \"次へ\" not in next_button[-1].text or item_count >= MAX_ITEMS:\n",
    "        break  # '次へ' ボタンがない、またはアイテム数がMAX_ITEMSに達したらループを終了\n",
    "\n",
    "# データフレームを作成\n",
    "df = pd.DataFrame(results)\n",
    "\n",
    "#データの整形\n",
    "# \"万円\"を削除して、文字列を数値に変換する関数定義\n",
    "def convert_rent(value):\n",
    "    if isinstance(value, str)and '万円' in value:\n",
    "        return float(value.replace('万円', ''))\n",
    "    else:\n",
    "        return value\n",
    "    \n",
    "# \"円\"を削除して、文字列を数値に変換する関数定義\n",
    "def convert_deposit(value):\n",
    "    if isinstance(value, str)and '円' in value:\n",
    "        return float(value.replace('円', ''))\n",
    "    else:\n",
    "        return value\n",
    "    \n",
    "df['家賃'] = df['家賃'].apply(convert_rent)\n",
    "df['敷金'] = df['敷金'].apply(convert_rent)\n",
    "df['礼金'] = df['礼金'].apply(convert_rent)\n",
    "df['管理費'] = df['管理費'].apply(convert_deposit)\n",
    "\n",
    "#築年数の変換\n",
    "df['築年数'] = df['築年数'].replace(\"新築\",0)\n",
    "df['築年数'] = df['築年数'].replace(to_replace='築', value='', regex=True).replace(to_replace='年', value='', regex=True).astype(int)\n",
    "\n",
    "# 重複する行を削除\n",
    "unique_data = df.drop_duplicates(subset=['名称', 'アドレス', '階数', '家賃', '敷金', '礼金', '間取り'])\n",
    "\n",
    "# CSVに出力\n",
    "csv_file_path = 'unique_output.csv'\n",
    "unique_data.to_csv(csv_file_path, index=False)\n",
    "\n",
    "print(f\"CSVファイルが出力されました: {csv_file_path}\")\n",
    "\n",
    "unique_data\n"
   ]
  },
  {
   "cell_type": "markdown",
   "metadata": {},
   "source": [
    "Googleスプレッドシートを呼び出し、加工したデータを格納する"
   ]
  },
  {
   "cell_type": "code",
   "execution_count": null,
   "metadata": {},
   "outputs": [],
   "source": [
    "import gspread\n",
    "from oauth2client.service_account import ServiceAccountCredentials\n",
    "\n",
    "from dotenv import load_dotenv\n",
    "load_dotenv()\n",
    "\n",
    "import os\n",
    "\n",
    "SPREADSHEET_KEY = os.getenv('SPREADSHEET_KEY')"
   ]
  },
  {
   "cell_type": "code",
   "execution_count": null,
   "metadata": {},
   "outputs": [],
   "source": [
    "scope = ['https://spreadsheets.google.com/feeds','https://www.googleapis.com/auth/drive']\n",
    "Auth = 'suumo-step3-1-33c7f663e7dd.json'\n",
    "\n",
    "\n",
    "credentials = ServiceAccountCredentials.from_json_keyfile_name(Auth, scope)\n",
    "\n",
    "gs = gspread.authorize(credentials)\n",
    "worksheet = gs.open_by_key(SPREADSHEET_KEY).worksheet(\"シート1\")"
   ]
  },
  {
   "cell_type": "code",
   "execution_count": null,
   "metadata": {},
   "outputs": [],
   "source": [
    "from gspread_dataframe import set_with_dataframe"
   ]
  },
  {
   "cell_type": "code",
   "execution_count": null,
   "metadata": {},
   "outputs": [],
   "source": [
    "workbook = gs.open_by_key(SPREADSHEET_KEY)"
   ]
  },
  {
   "cell_type": "code",
   "execution_count": null,
   "metadata": {},
   "outputs": [],
   "source": [
    "workbook.add_worksheet(title=\"Tokyo\", rows=1000, cols=20)"
   ]
  },
  {
   "cell_type": "code",
   "execution_count": null,
   "metadata": {},
   "outputs": [],
   "source": [
    "set_with_dataframe(workbook.worksheet(\"Tokyo\"), unique_data, include_index= True)"
   ]
  }
 ],
 "metadata": {
  "kernelspec": {
   "display_name": "Python 3",
   "language": "python",
   "name": "python3"
  },
  "language_info": {
   "codemirror_mode": {
    "name": "ipython",
    "version": 3
   },
   "file_extension": ".py",
   "mimetype": "text/x-python",
   "name": "python",
   "nbconvert_exporter": "python",
   "pygments_lexer": "ipython3",
   "version": "3.11.4"
  }
 },
 "nbformat": 4,
 "nbformat_minor": 2
}
