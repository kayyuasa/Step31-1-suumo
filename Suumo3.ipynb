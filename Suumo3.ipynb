{
 "cells": [
  {
   "cell_type": "code",
   "execution_count": 2,
   "metadata": {},
   "outputs": [
    {
     "name": "stdout",
     "output_type": "stream",
     "text": [
      "CSVファイルが出力されました: output.csv\n"
     ]
    }
   ],
   "source": [
    "import pandas as pd\n",
    "import requests\n",
    "from bs4 import BeautifulSoup\n",
    "\n",
    "REQUEST_URL = \"https://suumo.jp/jj/chintai/ichiran/FR301FC001/?ar=050&bs=040&ta=23&sc=23211&cb=0.0&ct=9999999&et=9999999&cn=9999999&mb=0&mt=9999999&shkr1=03&shkr2=03&shkr3=03&shkr4=03&fw2=&srch_navi=1\"\n",
    "MAX_ITEMS = 200\n",
    "results = []\n",
    "page_number = 1\n",
    "item_count = 0\n",
    "\n",
    "while item_count < MAX_ITEMS:\n",
    "    res = f\"{REQUEST_URL}&page={page_number}\"\n",
    "    response = requests.get(res)\n",
    "    if response.status_code != 200:\n",
    "        break\n",
    "\n",
    "    soup = BeautifulSoup(response.text, \"html.parser\")\n",
    "    cassette_items = soup.find_all(class_=\"cassetteitem\")\n",
    "\n",
    "    for item in cassette_items:\n",
    "        # 各cassetteitemのタイトルなど共通情報を抽出\n",
    "        title = item.find(class_=\"cassetteitem_content-title\").text.strip()\n",
    "        address = item.find(class_=\"cassetteitem_detail-col1\").text.strip()\n",
    "        \n",
    "        # 各cassetteitem内の複数のtbodyを取得\n",
    "        tbodies = item.find_all('tbody')\n",
    "        for tbody in tbodies:\n",
    "            if item_count >= MAX_ITEMS:\n",
    "                break\n",
    "            # 各tbodyから間取り、料金、階数などの情報を抽出\n",
    "            madori = tbody.find(class_=\"cassetteitem_madori\").text.strip()\n",
    "            fee = tbody.find(class_=\"cassetteitem_other-emphasis ui-text--bold\").text.strip()\n",
    "            floor = tbody.find_all('td')[2].text.strip() if tbody.find_all('td') else \"不明\"\n",
    "            \n",
    "            # 各物件の情報を辞書として追加\n",
    "            bukken_info = {\n",
    "                \"title\": title,\n",
    "                \"address\": address,\n",
    "                \"madori\": madori,\n",
    "                \"fee\": fee,\n",
    "                \"floor\": floor\n",
    "            }\n",
    "            results.append(bukken_info)\n",
    "            item_count += 1\n",
    "\n",
    "    page_number += 1\n",
    "    \n",
    "    next_button = soup.select('p.pagination-parts > a')\n",
    "    if not next_button or \"次へ\" not in next_button[-1].text or item_count >= MAX_ITEMS:\n",
    "        break  # '次へ' ボタンがない、またはアイテム数がMAX_ITEMSに達したらループを終了\n",
    "\n",
    "# データフレームを作成\n",
    "df = pd.DataFrame(results)\n",
    "\n",
    "# CSVに出力\n",
    "csv_file_path = 'output.csv'\n",
    "df.to_csv(csv_file_path, index=False)\n",
    "\n",
    "print(f\"CSVファイルが出力されました: {csv_file_path}\")\n"
   ]
  }
 ],
 "metadata": {
  "kernelspec": {
   "display_name": "Python 3",
   "language": "python",
   "name": "python3"
  },
  "language_info": {
   "codemirror_mode": {
    "name": "ipython",
    "version": 3
   },
   "file_extension": ".py",
   "mimetype": "text/x-python",
   "name": "python",
   "nbconvert_exporter": "python",
   "pygments_lexer": "ipython3",
   "version": "3.11.4"
  }
 },
 "nbformat": 4,
 "nbformat_minor": 2
}
